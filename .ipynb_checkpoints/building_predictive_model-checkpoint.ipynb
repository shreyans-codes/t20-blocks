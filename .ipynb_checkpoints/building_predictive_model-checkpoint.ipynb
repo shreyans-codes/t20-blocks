{
 "cells": [
  {
   "cell_type": "code",
   "execution_count": 1,
   "id": "561e676c-e98f-486a-b942-31edf24a6a77",
   "metadata": {},
   "outputs": [],
   "source": [
    "import os\n",
    "import pandas as pd\n",
    "import numpy as np\n",
    "import warnings\n",
    "warnings.filterwarnings(\"ignore\")"
   ]
  },
  {
   "cell_type": "code",
   "execution_count": 2,
   "id": "6caf3265-74d4-4c0a-a956-28d5128de30d",
   "metadata": {},
   "outputs": [],
   "source": [
    "def load_data(file_path , filename):\n",
    "    csv_path = os.path.join(file_path, filename)\n",
    "    return pd.read_csv(csv_path)"
   ]
  },
  {
   "cell_type": "code",
   "execution_count": 3,
   "id": "13395483-0e0f-4dd1-b784-c210e3ad870b",
   "metadata": {},
   "outputs": [
    {
     "name": "stdout",
     "output_type": "stream",
     "text": [
      "C:\\Users\\sheru\\Documents\\GitHub\\t20-blocks\n"
     ]
    }
   ],
   "source": [
    "print(os.getcwd())\n",
    "batting_file_path = \"Cleaned/Batting\"\n",
    "\n",
    "\n",
    "# All batting dataframes\n",
    "odi_data = load_data(batting_file_path, \"odi_data_rating.csv\")\n",
    "t20_data = load_data(batting_file_path, \"t20_data_rating.csv\")"
   ]
  },
  {
   "cell_type": "code",
   "execution_count": null,
   "id": "2ca49407-138c-454e-bdc2-292225ae3341",
   "metadata": {},
   "outputs": [],
   "source": []
  }
 ],
 "metadata": {
  "kernelspec": {
   "display_name": "Python 3 (ipykernel)",
   "language": "python",
   "name": "python3"
  },
  "language_info": {
   "codemirror_mode": {
    "name": "ipython",
    "version": 3
   },
   "file_extension": ".py",
   "mimetype": "text/x-python",
   "name": "python",
   "nbconvert_exporter": "python",
   "pygments_lexer": "ipython3",
   "version": "3.9.7"
  }
 },
 "nbformat": 4,
 "nbformat_minor": 5
}
